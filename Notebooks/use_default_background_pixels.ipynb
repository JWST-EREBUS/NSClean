{
 "cells": [
  {
   "cell_type": "markdown",
   "id": "ea200dbb-dcf3-4a7f-a6d5-adc4b7297fcd",
   "metadata": {},
   "source": [
    "# Simple Examples using Default Background Pixels\n",
    "\n",
    "B.J. Rauscher<br>\n",
    "NASA/GSFC\n",
    "\n",
    "## 1 INTRODUCTION\n",
    "\n",
    "**If you are able to specify which pixels can be treated as background, STOP. You will get better results using \"enhanced MASK mode\" as described in `enhanced_mask_example.ipynb`.**\n",
    "\n",
    "This notebook describes how to use the first generation NIRSpec cleaner (NSClean1). The technique described here may be incrementally better than the NIRSpec Team's \"rolling median\" correction. We are leaving this notebook in the distribution because it may be helpful for \"quick look\" analysis or by those who do not have background pixel masks."
   ]
  },
  {
   "cell_type": "code",
   "execution_count": 1,
   "id": "02b4618b-6ae9-4d4f-b2f4-dad0410050db",
   "metadata": {},
   "outputs": [],
   "source": [
    "# Other standard imports\n",
    "import os\n",
    "import numpy as np\n",
    "from astropy.io import fits\n",
    "from time import perf_counter as t # Used for benchmarking\n",
    "from glob import glob\n",
    "\n",
    "# It will be handy to have a stack\n",
    "stack = []\n",
    "\n",
    "# Import the NIRSpec Clean package\n",
    "import nsclean as nc\n",
    "opmode = 'IFU' # Set this to 'MOS' or 'IFU'"
   ]
  },
  {
   "cell_type": "markdown",
   "id": "3cb4848c-9a77-42de-9913-471f84a5a956",
   "metadata": {},
   "source": [
    "NRS2 seems to have stronger \"picture frame\" noise and vertical banding than NRS1. Instantiate a NIRSpec cleaner object for it."
   ]
  },
  {
   "cell_type": "code",
   "execution_count": 2,
   "id": "8f33c6dc-912d-4b16-a183-841dc9a0219d",
   "metadata": {},
   "outputs": [],
   "source": [
    "cleaner = nc.NSClean1(opmode, 'NRS2')"
   ]
  },
  {
   "cell_type": "markdown",
   "id": "e920d3b2-6c88-4e9b-aa5c-2b41a0acdcad",
   "metadata": {},
   "source": [
    "Read in some data. This should be a \"slope image\" like those written by the STScI pipeline. The spectral dispersion direction should be horizontal as displayed by SAOImage DS9."
   ]
  },
  {
   "cell_type": "code",
   "execution_count": 3,
   "id": "4aff3174-06bc-48ad-b3c3-f33b6d277724",
   "metadata": {},
   "outputs": [],
   "source": [
    "# Make a list of input files. You won't have the same directories, so just pick\n",
    "# pipeline Stage 1 rate image.\n",
    "files = glob('/local/data/home/brausche/data1/JWST/Birkmann_IFU'+\\\n",
    "                 '/1270_rate/**/*_nrs2_rate.fits', recursive=True)\n",
    "\n",
    "# Pick one\n",
    "file = files[1]\n",
    "\n",
    "# Read data. The STScI files put the data in hdul[1].\n",
    "with fits.open(file) as hdul:\n",
    "    D  = hdul[1].data\n",
    "    H0 = hdul[0].header\n",
    "    H1 = hdul[1].header"
   ]
  },
  {
   "cell_type": "markdown",
   "id": "73104933-e106-42c1-b58d-041b419faa2d",
   "metadata": {},
   "source": [
    "Clean D. On my server, this takes about TBD seconds. You can speed this up by enabling multithreading or using a GPU. The notebook `advanced_mask_example.ipynb` shows how to do both."
   ]
  },
  {
   "cell_type": "code",
   "execution_count": 4,
   "id": "7925e6bc-b886-4f69-8631-b23d56b7e074",
   "metadata": {},
   "outputs": [
    {
     "name": "stdout",
     "output_type": "stream",
     "text": [
      "Elapsed time (s) =  55.605339932022616\n"
     ]
    }
   ],
   "source": [
    "stack.append(t()) # Setup to benchmark\n",
    "D = cleaner.clean(D) # This is the line that does all the work\n",
    "print('Elapsed time (s) = ', t()-stack.pop()) # Benchmark it!"
   ]
  },
  {
   "cell_type": "markdown",
   "id": "6948c497-8bba-4514-9c56-49f50e998251",
   "metadata": {},
   "source": [
    "Save results. The `chsuf()` utility changes the output filename's suffix from `.fits` to `.cln.fits`."
   ]
  },
  {
   "cell_type": "code",
   "execution_count": 5,
   "id": "e334e67e-bd0d-4a97-ba64-7b7a7feb6a06",
   "metadata": {},
   "outputs": [],
   "source": [
    "H0['comment'] = 'Processed by NSClean Rev. ' + nc.__version__\n",
    "hdul = fits.HDUList([fits.PrimaryHDU(header=H0),\n",
    "                   fits.ImageHDU(D, header=H1, name='SCI')])\n",
    "hdul.writeto('/local/data/home/brausche/tmp/'+\\\n",
    "                 nc.chsuf(os.path.basename(file), '.cln.fits'),\n",
    "                    overwrite=True)\n",
    "hdul.close()"
   ]
  },
  {
   "cell_type": "code",
   "execution_count": null,
   "id": "e3737f70-a70f-4282-9afb-9de4f0d43bae",
   "metadata": {},
   "outputs": [],
   "source": []
  }
 ],
 "metadata": {
  "kernelspec": {
   "display_name": "Python (jwst)",
   "language": "python",
   "name": "jwst"
  },
  "language_info": {
   "codemirror_mode": {
    "name": "ipython",
    "version": 3
   },
   "file_extension": ".py",
   "mimetype": "text/x-python",
   "name": "python",
   "nbconvert_exporter": "python",
   "pygments_lexer": "ipython3",
   "version": "3.10.8"
  }
 },
 "nbformat": 4,
 "nbformat_minor": 5
}
