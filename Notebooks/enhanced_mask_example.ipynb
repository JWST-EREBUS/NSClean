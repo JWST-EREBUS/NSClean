{
 "cells": [
  {
   "cell_type": "markdown",
   "id": "f515e31d-d39a-446e-982b-8902c1a9a320",
   "metadata": {},
   "source": [
    "# Enhanced Mask Example\n",
    "\n",
    "B.J. Rauscher<br>\n",
    "NASA/GSFC\n",
    "\n",
    "## 1 INTRODUCTION\n",
    "\n",
    "This notebook shows how to get the best possible background suppression using NSClean. It assumes that the observer is able to specify which pixels can be treated as background using a highly-optimized mask. This is how we recommend using NSClean."
   ]
  },
  {
   "cell_type": "code",
   "execution_count": 1,
   "id": "88b4b07f-e351-4b50-b119-05753f01651d",
   "metadata": {},
   "outputs": [],
   "source": [
    "# Configuration needs to come first\n",
    "import os\n",
    "os.environ['MKL_NUM_THREADS'] = '8'   # Enable multi-threading\n",
    "os.environ['NSCLEAN_USE_CUPY'] = 'YES' # Use GPU. If you change this, you will\n",
    "                                         #   need to restart python. In practice,\n",
    "                                         #   I have found that most of the time\n",
    "                                         #   the GPU is no faster than using CPUs.\n",
    "\n",
    "# Import the appropriate numerical libraries\n",
    "if os.getenv('NSCLEAN_USE_CUPY') == 'YES':\n",
    "    import cupy as cp\n",
    "    import numpy as np\n",
    "else:\n",
    "    import numpy as cp\n",
    "    import numpy as np\n",
    "\n",
    "# Other imports\n",
    "from astropy.io import fits\n",
    "from time import perf_counter as t # Used for benchmarking\n",
    "from glob import glob\n",
    "\n",
    "# It will be handy to have a stack\n",
    "S = [] # Used for benchmarking\n",
    "\n",
    "# NSClean specific\n",
    "import nsclean as nc"
   ]
  },
  {
   "cell_type": "markdown",
   "id": "d64012ca-560c-4886-b73a-03105d0a2e45",
   "metadata": {},
   "source": [
    "## 1 Process some NRS1 Files"
   ]
  },
  {
   "cell_type": "code",
   "execution_count": 2,
   "id": "dfdeb6a2-9858-4079-86c8-6099df099975",
   "metadata": {},
   "outputs": [],
   "source": [
    "# Make a list of input files\n",
    "files = glob('/local/data/home/brausche/data1/JWST/Birkmann_IFU'+\\\n",
    "             '/1270_rate/**/*_nrs1_rate.fits', recursive=True)"
   ]
  },
  {
   "cell_type": "markdown",
   "id": "f1f7be1f-89b7-4305-8997-d7e783333a9c",
   "metadata": {},
   "source": [
    "The next cell executes only in MASK mode. It loads the mask from a file and configures the model fitting parameters.\n",
    "\n",
    "In this case, the mask is stored in a UINT8 FITS file. Pixels =0 are ignored. Pixels =1 are used for modeling the background. NSClean requires that the mask be passed as a boolean array.\n",
    "\n",
    "The three model parameters are the boolean array that contains the mask, the number of Fourier vectors to fit, and the number of Fourier vectors (within the 8192+512) that are rolled off by the apodizing filter. To enable the background modeling to be done by a consumer grade GPU, the Fourier vectors are projected out in groups of 128 at a time. The number of Fourier vectors to fit is required to be an integral multiple of 128. The apodizer can roll over over however many vectors are desired. Here we arbitrarily choose 1024."
   ]
  },
  {
   "cell_type": "code",
   "execution_count": 3,
   "id": "0d42de5f-c4ae-4c2e-8bbc-c7ee04f3ea9d",
   "metadata": {},
   "outputs": [],
   "source": [
    "# Load this channel's mask\n",
    "with fits.open('/local/data/home/brausche/data1/JWST/Birkmann_IFU/nrs1_ifu_mask_thorough.fits') as hdul:\n",
    "    M = cp.array(hdul[0].data, dtype=cp.bool_)"
   ]
  },
  {
   "cell_type": "code",
   "execution_count": 4,
   "id": "ac13ec19-30d8-40ad-ae23-e5db20d12a54",
   "metadata": {},
   "outputs": [],
   "source": [
    "# Instantiate an NSClean object\n",
    "cleaner = nc.NSClean('NRS1', M)"
   ]
  },
  {
   "cell_type": "code",
   "execution_count": 5,
   "id": "628c2b00-dc0c-4274-9a40-7dddfab4b2a9",
   "metadata": {},
   "outputs": [
    {
     "name": "stdout",
     "output_type": "stream",
     "text": [
      "Execution time (s) =  6.8839761689305305\n"
     ]
    }
   ],
   "source": [
    "S.append(t()) # Put start time on stack\n",
    "for i in np.arange(len(files)):\n",
    "    \n",
    "    # Speed up for development by doing just one\n",
    "    if i != 1: continue\n",
    "    \n",
    "    # Download FITS file\n",
    "    hdul = fits.open(files[i])\n",
    "    H0 = hdul[0].header\n",
    "    H1 = hdul[1].header\n",
    "    D1 = cp.array(hdul[1].data)\n",
    "    hdul.close()\n",
    "    \n",
    "    # Clean it\n",
    "    D1 = cleaner.clean(D1, buff=True)\n",
    "    \n",
    "    # Save it to FITS\n",
    "    H0['comment'] = 'Processed by NSClean Rev. '+nc.__version__\n",
    "    if os.getenv('NSCLEAN_USE_CUPY') == 'YES':\n",
    "        hdul = fits.HDUList([fits.PrimaryHDU(header=H0),\n",
    "                   fits.ImageHDU(cp.asnumpy(D1), header=H1, name='SCI')])\n",
    "    else:\n",
    "        hdul = fits.HDUList([fits.PrimaryHDU(header=H0),\n",
    "                   fits.ImageHDU(D1, header=H1, name='SCI')])\n",
    "    hdul.writeto('/local/data/home/brausche/tmp/'+\\\n",
    "                     nc.chsuf(os.path.basename(files[i]), '.cln_mask.fits'),\n",
    "                        overwrite=True)\n",
    "    hdul.close()\n",
    "    \n",
    "print('Execution time (s) = ', t()-S.pop())"
   ]
  },
  {
   "cell_type": "markdown",
   "id": "75d22b29-5e86-40a9-9cbd-13dde33ce83b",
   "metadata": {},
   "source": [
    "## Same but for NRS2"
   ]
  },
  {
   "cell_type": "code",
   "execution_count": 6,
   "id": "be438739-24ae-4609-995d-cf477587e3a5",
   "metadata": {},
   "outputs": [],
   "source": [
    "# Make a list of input files\n",
    "files = glob('/local/data/home/brausche/data1/JWST/Birkmann_IFU'+\\\n",
    "                 '/1270_rate/**/*_nrs2_rate.fits', recursive=True)"
   ]
  },
  {
   "cell_type": "code",
   "execution_count": 7,
   "id": "9ffd6ea0-bbde-4202-bf49-8834c56e8dcd",
   "metadata": {},
   "outputs": [],
   "source": [
    "# Load this channel's mask\n",
    "with fits.open('/local/data/home/brausche/data1/JWST/Birkmann_IFU/nrs2_ifu_mask_thorough.fits') as hdul:\n",
    "    M = cp.array(hdul[0].data, dtype=cp.bool_)"
   ]
  },
  {
   "cell_type": "code",
   "execution_count": 8,
   "id": "72daea68-873b-43f6-a39b-d53f46b29a3a",
   "metadata": {},
   "outputs": [],
   "source": [
    "# Instantiate an NSClean object\n",
    "cleaner = nc.NSClean('NRS2', M)"
   ]
  },
  {
   "cell_type": "code",
   "execution_count": 9,
   "id": "7cc6deaa-a50d-4a17-83b8-881f3b95bc3a",
   "metadata": {},
   "outputs": [
    {
     "name": "stdout",
     "output_type": "stream",
     "text": [
      "Execution time (s) =  6.5168963968753815\n"
     ]
    }
   ],
   "source": [
    "stack = []\n",
    "stack.append(t())\n",
    "for i in np.arange(len(files)):\n",
    "    \n",
    "    # Speed up for development by doing just one\n",
    "    if i != 1: continue\n",
    "    \n",
    "    # Download FITS file\n",
    "    hdul = fits.open(files[i])\n",
    "    H0 = hdul[0].header\n",
    "    H1 = hdul[1].header\n",
    "    D1 = cp.array(hdul[1].data)\n",
    "    hdul.close()\n",
    "    \n",
    "    # Clean it\n",
    "    D1 = cleaner.clean(D1, buff=True)\n",
    "    \n",
    "    # Save it\n",
    "    H0['comment'] = 'Processed by NSClean Rev. '+nc.__version__\n",
    "    if os.getenv('NSCLEAN_USE_CUPY') == 'YES':\n",
    "        hdul = fits.HDUList([fits.PrimaryHDU(header=H0),\n",
    "                   fits.ImageHDU(cp.asnumpy(D1), header=H1, name='SCI')])\n",
    "    else:\n",
    "        hdul = fits.HDUList([fits.PrimaryHDU(header=H0),\n",
    "                   fits.ImageHDU(D1, header=H1, name='SCI')])\n",
    "    hdul.writeto('/local/data/home/brausche/tmp/'+nc.chsuf(os.path.basename(files[i]), '.cln_mask.fits'),\n",
    "                overwrite=True)\n",
    "    hdul.close()\n",
    "    \n",
    "print('Execution time (s) = ', t()-stack.pop())"
   ]
  },
  {
   "cell_type": "code",
   "execution_count": null,
   "id": "9266e296-7d2b-4736-9767-cf2bd57380c5",
   "metadata": {},
   "outputs": [],
   "source": []
  }
 ],
 "metadata": {
  "kernelspec": {
   "display_name": "Python (jwst)",
   "language": "python",
   "name": "jwst"
  },
  "language_info": {
   "codemirror_mode": {
    "name": "ipython",
    "version": 3
   },
   "file_extension": ".py",
   "mimetype": "text/x-python",
   "name": "python",
   "nbconvert_exporter": "python",
   "pygments_lexer": "ipython3",
   "version": "3.10.8"
  }
 },
 "nbformat": 4,
 "nbformat_minor": 5
}
